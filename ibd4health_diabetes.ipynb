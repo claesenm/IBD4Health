{
 "cells": [
  {
   "cell_type": "markdown",
   "metadata": {},
   "source": [
    "In this notebook, we will do some basic data analyses. As a basis, we will use a synthetic data set containing biographical and medicinal information of 10.000 persons."
   ]
  },
  {
   "cell_type": "markdown",
   "metadata": {},
   "source": [
    "# 0. Python and data primer\n",
    "\n",
    "## 0.1. Python primer\n",
    "\n",
    "In this section we will provide a concise overview of the Python language, to enable you to get started. The '#' sign is used to start a comment in Python, that lasts until the end of the line. The 'print()' command can be used to print output. The 'type()' command shows the type of its argument. Python indexing always starts at 0. For more information about Python, please refer to https://docs.python.org/3/reference/index.html.\n",
    "\n",
    "### Primitive types\n",
    "First, lets go over some primitive types in Python: integers (whole numbers), floats (real numbers), booleans (true/false) and strings (text)."
   ]
  },
  {
   "cell_type": "code",
   "execution_count": 12,
   "metadata": {
    "collapsed": false
   },
   "outputs": [
    {
     "name": "stdout",
     "output_type": "stream",
     "text": [
      "<type 'int'>\n",
      "1\n"
     ]
    }
   ],
   "source": [
    "# integers\n",
    "a = 1\n",
    "print(type(a))\n",
    "print(a)"
   ]
  },
  {
   "cell_type": "code",
   "execution_count": 13,
   "metadata": {
    "collapsed": false
   },
   "outputs": [
    {
     "name": "stdout",
     "output_type": "stream",
     "text": [
      "1.0\n"
     ]
    }
   ],
   "source": [
    "# floats\n",
    "b = 1.0\n",
    "type(b)\n",
    "print(b)"
   ]
  },
  {
   "cell_type": "code",
   "execution_count": 14,
   "metadata": {
    "collapsed": false
   },
   "outputs": [
    {
     "name": "stdout",
     "output_type": "stream",
     "text": [
      "<type 'bool'>\n",
      "True\n",
      "False\n"
     ]
    }
   ],
   "source": [
    "# booleans\n",
    "c = True\n",
    "print(type(c))\n",
    "print(c)\n",
    "d = a == 2\n",
    "print(d)"
   ]
  },
  {
   "cell_type": "code",
   "execution_count": 15,
   "metadata": {
    "collapsed": false
   },
   "outputs": [
    {
     "name": "stdout",
     "output_type": "stream",
     "text": [
      "<type 'str'>\n",
      "We are the knights who say \"Ni!\"\n",
      "We are the knights who say \"Ni!\" And we demand a shrubbery!\n"
     ]
    }
   ],
   "source": [
    "# string\n",
    "s = 'We are the knights who say \"Ni!\"'\n",
    "print(type(s))\n",
    "print(s)\n",
    "s2 = s + ' And we demand a shrubbery!'\n",
    "print(s2)"
   ]
  },
  {
   "cell_type": "markdown",
   "metadata": {},
   "source": [
    "### Built-in basic data types\n",
    "\n",
    "Python has a number of built-in data types, including lists, dictionaries and sets. We will briefly go over the uses and syntax of each of these.\n",
    "\n",
    "A *list* is an ordered sequence of values, not necessarily of the same type. Lists can be initialized via square brackets []."
   ]
  },
  {
   "cell_type": "code",
   "execution_count": 16,
   "metadata": {
    "collapsed": false
   },
   "outputs": [
    {
     "name": "stdout",
     "output_type": "stream",
     "text": [
      "<type 'list'>\n",
      "[1, 'blah', 2.0, True]\n",
      "1\n",
      "blah\n",
      "2.0\n",
      "True\n",
      "[1, 'blah', 2.0, True, 5]\n",
      "[1, 'blah', 2.0]\n",
      "5\n"
     ]
    }
   ],
   "source": [
    "l = [1, 'blah', 2.0, True]\n",
    "print(type(l))\n",
    "print(l)\n",
    "\n",
    "# iterate over list\n",
    "for i in l:\n",
    "    print(i)\n",
    "    \n",
    "# add element to a list\n",
    "l.append(5)\n",
    "print(l)\n",
    "\n",
    "# list slicing: print the first 3 elements\n",
    "print(l[0:3])\n",
    "\n",
    "# length of the list: use the len() function\n",
    "print(len(l))"
   ]
  },
  {
   "cell_type": "markdown",
   "metadata": {},
   "source": [
    "A *dictionary* (dict) is a container that maps (unique) keys to values, and is typically initialized using curly brackets {}."
   ]
  },
  {
   "cell_type": "code",
   "execution_count": 17,
   "metadata": {
    "collapsed": false
   },
   "outputs": [
    {
     "name": "stdout",
     "output_type": "stream",
     "text": [
      "<type 'dict'>\n",
      "{'a': 1, 'b': 2}\n",
      "1\n",
      "2\n",
      "key a mapped to value 1\n",
      "key b mapped to value 2\n"
     ]
    }
   ],
   "source": [
    "d = {'a': 1, 'b': 2}\n",
    "print(type(d))\n",
    "print(d)\n",
    "\n",
    "# get item 'a' from the dictionary\n",
    "print(d['a'])\n",
    "\n",
    "# length of the dictionary\n",
    "print(len(d))\n",
    "\n",
    "# iterate over the dictionary\n",
    "# note that the ordering is not necessarily as initialized\n",
    "for k, v in d.items():\n",
    "    print('key %s mapped to value %d' % (k, v))"
   ]
  },
  {
   "cell_type": "markdown",
   "metadata": {},
   "source": [
    "A *set* is a container for distinct values, and can be initialized via the *set()* function."
   ]
  },
  {
   "cell_type": "code",
   "execution_count": 18,
   "metadata": {
    "collapsed": false
   },
   "outputs": [
    {
     "name": "stdout",
     "output_type": "stream",
     "text": [
      "<type 'set'>\n",
      "set([1, 2, 3])\n",
      "set([3, 4, 5])\n",
      "set([1, 2, 3, 4, 5])\n",
      "set([1, 2])\n"
     ]
    }
   ],
   "source": [
    "s1 = set([1, 2, 3, 3])\n",
    "print(type(s1))\n",
    "print(s1)\n",
    "\n",
    "s2 = set([3, 4, 5])\n",
    "print(s2)\n",
    "\n",
    "# set union\n",
    "s3 = s1.union(s2)\n",
    "print(s3)\n",
    "\n",
    "# set difference\n",
    "s4 = s1.difference(s2)\n",
    "print(s4)"
   ]
  },
  {
   "cell_type": "markdown",
   "metadata": {},
   "source": [
    "### Various useful functions\n",
    "\n",
    "The 'help()' function can be used to open the documentation of a certain function or data type."
   ]
  },
  {
   "cell_type": "code",
   "execution_count": 19,
   "metadata": {
    "collapsed": false
   },
   "outputs": [
    {
     "name": "stdout",
     "output_type": "stream",
     "text": [
      "Help on float object:\n",
      "\n",
      "class float(object)\n",
      " |  float(x) -> floating point number\n",
      " |  \n",
      " |  Convert a string or number to a floating point number, if possible.\n",
      " |  \n",
      " |  Methods defined here:\n",
      " |  \n",
      " |  __abs__(...)\n",
      " |      x.__abs__() <==> abs(x)\n",
      " |  \n",
      " |  __add__(...)\n",
      " |      x.__add__(y) <==> x+y\n",
      " |  \n",
      " |  __coerce__(...)\n",
      " |      x.__coerce__(y) <==> coerce(x, y)\n",
      " |  \n",
      " |  __div__(...)\n",
      " |      x.__div__(y) <==> x/y\n",
      " |  \n",
      " |  __divmod__(...)\n",
      " |      x.__divmod__(y) <==> divmod(x, y)\n",
      " |  \n",
      " |  __eq__(...)\n",
      " |      x.__eq__(y) <==> x==y\n",
      " |  \n",
      " |  __float__(...)\n",
      " |      x.__float__() <==> float(x)\n",
      " |  \n",
      " |  __floordiv__(...)\n",
      " |      x.__floordiv__(y) <==> x//y\n",
      " |  \n",
      " |  __format__(...)\n",
      " |      float.__format__(format_spec) -> string\n",
      " |      \n",
      " |      Formats the float according to format_spec.\n",
      " |  \n",
      " |  __ge__(...)\n",
      " |      x.__ge__(y) <==> x>=y\n",
      " |  \n",
      " |  __getattribute__(...)\n",
      " |      x.__getattribute__('name') <==> x.name\n",
      " |  \n",
      " |  __getformat__(...)\n",
      " |      float.__getformat__(typestr) -> string\n",
      " |      \n",
      " |      You probably don't want to use this function.  It exists mainly to be\n",
      " |      used in Python's test suite.\n",
      " |      \n",
      " |      typestr must be 'double' or 'float'.  This function returns whichever of\n",
      " |      'unknown', 'IEEE, big-endian' or 'IEEE, little-endian' best describes the\n",
      " |      format of floating point numbers used by the C type named by typestr.\n",
      " |  \n",
      " |  __getnewargs__(...)\n",
      " |  \n",
      " |  __gt__(...)\n",
      " |      x.__gt__(y) <==> x>y\n",
      " |  \n",
      " |  __hash__(...)\n",
      " |      x.__hash__() <==> hash(x)\n",
      " |  \n",
      " |  __int__(...)\n",
      " |      x.__int__() <==> int(x)\n",
      " |  \n",
      " |  __le__(...)\n",
      " |      x.__le__(y) <==> x<=y\n",
      " |  \n",
      " |  __long__(...)\n",
      " |      x.__long__() <==> long(x)\n",
      " |  \n",
      " |  __lt__(...)\n",
      " |      x.__lt__(y) <==> x<y\n",
      " |  \n",
      " |  __mod__(...)\n",
      " |      x.__mod__(y) <==> x%y\n",
      " |  \n",
      " |  __mul__(...)\n",
      " |      x.__mul__(y) <==> x*y\n",
      " |  \n",
      " |  __ne__(...)\n",
      " |      x.__ne__(y) <==> x!=y\n",
      " |  \n",
      " |  __neg__(...)\n",
      " |      x.__neg__() <==> -x\n",
      " |  \n",
      " |  __nonzero__(...)\n",
      " |      x.__nonzero__() <==> x != 0\n",
      " |  \n",
      " |  __pos__(...)\n",
      " |      x.__pos__() <==> +x\n",
      " |  \n",
      " |  __pow__(...)\n",
      " |      x.__pow__(y[, z]) <==> pow(x, y[, z])\n",
      " |  \n",
      " |  __radd__(...)\n",
      " |      x.__radd__(y) <==> y+x\n",
      " |  \n",
      " |  __rdiv__(...)\n",
      " |      x.__rdiv__(y) <==> y/x\n",
      " |  \n",
      " |  __rdivmod__(...)\n",
      " |      x.__rdivmod__(y) <==> divmod(y, x)\n",
      " |  \n",
      " |  __repr__(...)\n",
      " |      x.__repr__() <==> repr(x)\n",
      " |  \n",
      " |  __rfloordiv__(...)\n",
      " |      x.__rfloordiv__(y) <==> y//x\n",
      " |  \n",
      " |  __rmod__(...)\n",
      " |      x.__rmod__(y) <==> y%x\n",
      " |  \n",
      " |  __rmul__(...)\n",
      " |      x.__rmul__(y) <==> y*x\n",
      " |  \n",
      " |  __rpow__(...)\n",
      " |      y.__rpow__(x[, z]) <==> pow(x, y[, z])\n",
      " |  \n",
      " |  __rsub__(...)\n",
      " |      x.__rsub__(y) <==> y-x\n",
      " |  \n",
      " |  __rtruediv__(...)\n",
      " |      x.__rtruediv__(y) <==> y/x\n",
      " |  \n",
      " |  __setformat__(...)\n",
      " |      float.__setformat__(typestr, fmt) -> None\n",
      " |      \n",
      " |      You probably don't want to use this function.  It exists mainly to be\n",
      " |      used in Python's test suite.\n",
      " |      \n",
      " |      typestr must be 'double' or 'float'.  fmt must be one of 'unknown',\n",
      " |      'IEEE, big-endian' or 'IEEE, little-endian', and in addition can only be\n",
      " |      one of the latter two if it appears to match the underlying C reality.\n",
      " |      \n",
      " |      Override the automatic determination of C-level floating point type.\n",
      " |      This affects how floats are converted to and from binary strings.\n",
      " |  \n",
      " |  __str__(...)\n",
      " |      x.__str__() <==> str(x)\n",
      " |  \n",
      " |  __sub__(...)\n",
      " |      x.__sub__(y) <==> x-y\n",
      " |  \n",
      " |  __truediv__(...)\n",
      " |      x.__truediv__(y) <==> x/y\n",
      " |  \n",
      " |  __trunc__(...)\n",
      " |      Return the Integral closest to x between 0 and x.\n",
      " |  \n",
      " |  as_integer_ratio(...)\n",
      " |      float.as_integer_ratio() -> (int, int)\n",
      " |      \n",
      " |      Return a pair of integers, whose ratio is exactly equal to the original\n",
      " |      float and with a positive denominator.\n",
      " |      Raise OverflowError on infinities and a ValueError on NaNs.\n",
      " |      \n",
      " |      >>> (10.0).as_integer_ratio()\n",
      " |      (10, 1)\n",
      " |      >>> (0.0).as_integer_ratio()\n",
      " |      (0, 1)\n",
      " |      >>> (-.25).as_integer_ratio()\n",
      " |      (-1, 4)\n",
      " |  \n",
      " |  conjugate(...)\n",
      " |      Return self, the complex conjugate of any float.\n",
      " |  \n",
      " |  fromhex(...)\n",
      " |      float.fromhex(string) -> float\n",
      " |      \n",
      " |      Create a floating-point number from a hexadecimal string.\n",
      " |      >>> float.fromhex('0x1.ffffp10')\n",
      " |      2047.984375\n",
      " |      >>> float.fromhex('-0x1p-1074')\n",
      " |      -4.9406564584124654e-324\n",
      " |  \n",
      " |  hex(...)\n",
      " |      float.hex() -> string\n",
      " |      \n",
      " |      Return a hexadecimal representation of a floating-point number.\n",
      " |      >>> (-0.1).hex()\n",
      " |      '-0x1.999999999999ap-4'\n",
      " |      >>> 3.14159.hex()\n",
      " |      '0x1.921f9f01b866ep+1'\n",
      " |  \n",
      " |  is_integer(...)\n",
      " |      Return True if the float is an integer.\n",
      " |  \n",
      " |  ----------------------------------------------------------------------\n",
      " |  Data descriptors defined here:\n",
      " |  \n",
      " |  imag\n",
      " |      the imaginary part of a complex number\n",
      " |  \n",
      " |  real\n",
      " |      the real part of a complex number\n",
      " |  \n",
      " |  ----------------------------------------------------------------------\n",
      " |  Data and other attributes defined here:\n",
      " |  \n",
      " |  __new__ = <built-in method __new__ of type object>\n",
      " |      T.__new__(S, ...) -> a new object with type S, a subtype of T\n",
      "\n"
     ]
    }
   ],
   "source": [
    "# 1.0 represents a float object\n",
    "help(1.0)"
   ]
  },
  {
   "cell_type": "code",
   "execution_count": 20,
   "metadata": {
    "collapsed": false
   },
   "outputs": [
    {
     "name": "stdout",
     "output_type": "stream",
     "text": [
      "Help on built-in function map in module __builtin__:\n",
      "\n",
      "map(...)\n",
      "    map(function, sequence[, sequence, ...]) -> list\n",
      "    \n",
      "    Return a list of the results of applying the function to the items of\n",
      "    the argument sequence(s).  If more than one sequence is given, the\n",
      "    function is called with an argument list consisting of the corresponding\n",
      "    item of each sequence, substituting None for missing values when not all\n",
      "    sequences have the same length.  If the function is None, return a list of\n",
      "    the items of the sequence (or a list of tuples if more than one sequence).\n",
      "\n"
     ]
    }
   ],
   "source": [
    "# map() is a built-in function\n",
    "help(map)"
   ]
  },
  {
   "cell_type": "markdown",
   "metadata": {},
   "source": [
    "List comprehensions provide an elegant way to create or transform iterables."
   ]
  },
  {
   "cell_type": "code",
   "execution_count": 21,
   "metadata": {
    "collapsed": false
   },
   "outputs": [
    {
     "name": "stdout",
     "output_type": "stream",
     "text": [
      "[0, 5, 10, 15, 20]\n",
      "[-1, 4, 9, 14, 19]\n"
     ]
    }
   ],
   "source": [
    "# to see what range() does, use help(range)\n",
    "a = [5 * i for i in range(5)]\n",
    "print(a)\n",
    "b = [x - 1 for x in a]\n",
    "print(b)"
   ]
  },
  {
   "cell_type": "markdown",
   "metadata": {},
   "source": [
    "The next step is importing libraries and/or data. Python has a wealth of libraries that provide well-documented functions we can use for data analysis. In particular, we will use 'NumPy' (numerical support, esp. linear algebra), 'scikit-learn' (machine learning), 'pandas' (statistics) and matplotlib (plotting). A library can be loaded using the 'import' command and renamed via 'import x as y'. To call function x from library y, we use y.x()."
   ]
  },
  {
   "cell_type": "code",
   "execution_count": 22,
   "metadata": {
    "collapsed": false
   },
   "outputs": [],
   "source": [
    "import numpy as np # numpy\n",
    "import sklearn # scikit-learn\n",
    "import pandas as pd # pandas\n",
    "\n",
    "#%matplotlib notebook\n",
    "%matplotlib inline\n",
    "import matplotlib\n",
    "import matplotlib.pyplot as plt # matplotlib\n",
    "matplotlib.style.use('ggplot')"
   ]
  },
  {
   "cell_type": "markdown",
   "metadata": {},
   "source": [
    "## 0.2 The data set"
   ]
  },
  {
   "cell_type": "markdown",
   "metadata": {},
   "source": [
    "We will use a synthetic data set based on health expenditure data. The data is organized as a matrix, and contains biographical information, class labels and information about drug purchases.\n",
    "\n",
    "For your convenience, we created a small library for loading the data and some convenience functions. We will load the library as 'ibd4h'."
   ]
  },
  {
   "cell_type": "code",
   "execution_count": 23,
   "metadata": {
    "collapsed": false
   },
   "outputs": [],
   "source": [
    "import ibd4health as ibd4h\n",
    "data = ibd4h.data\n",
    "features = ibd4h.features\n",
    "labels = ibd4h.labels\n",
    "colidx = ibd4h.colidx"
   ]
  },
  {
   "cell_type": "markdown",
   "metadata": {},
   "source": [
    "The following variables are important:\n",
    "- **data**: the data matrix, rows correspond to patients, columns to features\n",
    "- **features**: the list of features (corresponding to columns in ibd4h.data)\n",
    "- **labels**: the labels for patients (corresponding to rows, True: diabetic, False: non-diabetic)\n",
    "- **colidx**: a dictionary to facilitate retrieving columns from their string definitions"
   ]
  },
  {
   "cell_type": "code",
   "execution_count": 24,
   "metadata": {
    "collapsed": false
   },
   "outputs": [
    {
     "name": "stdout",
     "output_type": "stream",
     "text": [
      "Data set contains info on 10000 patients with 1097 features.\n",
      "Feature list has 1097 entries.\n",
      "Label list has 10000 entries, of which 5000 are positive.\n"
     ]
    }
   ],
   "source": [
    "print(\"Data set contains info on %d patients with %d features.\" \n",
    "      % data.shape)\n",
    "print(\"Feature list has %d entries.\" \n",
    "      % features.shape)\n",
    "print(\"Label list has %d entries, of which %d are positive.\" \n",
    "      % (labels.shape[0], sum(labels)))"
   ]
  },
  {
   "cell_type": "markdown",
   "metadata": {},
   "source": [
    "The features in this data set include age, gender the volume of drugs purchased by the patient. Lets have a look at the first 3 features."
   ]
  },
  {
   "cell_type": "code",
   "execution_count": 25,
   "metadata": {
    "collapsed": false
   },
   "outputs": [
    {
     "name": "stdout",
     "output_type": "stream",
     "text": [
      "feature 0: age\n",
      "feature 1: gender\n",
      "feature 2: A01AA01\n"
     ]
    }
   ],
   "source": [
    "for idx, feat in enumerate(features[:3]):\n",
    "    print('feature %d: %s' % (idx, feat))"
   ]
  },
  {
   "cell_type": "markdown",
   "metadata": {},
   "source": [
    "Drug volumes are categorized via codes of the anatomical therapeutic chemical (ATC) classification system (cfr. http://www.whocc.no/atc_ddd_index/ for details). You can find a description of ATC code XXX in the data set at http://www.whocc.no/atc_ddd_index/?showdescription=yes&code=XXX. For example, information on the third feature 'A01AA01', can be found at http://www.whocc.no/atc_ddd_index/?showdescription=yes&code=A01AA01.\n",
    "\n",
    "The data matrix can be indexed via `data[rowidx, colidx]`. For example, the age of the first patient:"
   ]
  },
  {
   "cell_type": "code",
   "execution_count": 26,
   "metadata": {
    "collapsed": false
   },
   "outputs": [
    {
     "name": "stdout",
     "output_type": "stream",
     "text": [
      "73.4415943908\n"
     ]
    }
   ],
   "source": [
    "ageidx = colidx['age']\n",
    "age = data[0, ageidx]\n",
    "print(age)"
   ]
  },
  {
   "cell_type": "markdown",
   "metadata": {},
   "source": [
    "For slicing, replace either rowidx or colidx with \":\". For example, to get a vector of all ages, we can use:"
   ]
  },
  {
   "cell_type": "code",
   "execution_count": 27,
   "metadata": {
    "collapsed": false
   },
   "outputs": [
    {
     "name": "stdout",
     "output_type": "stream",
     "text": [
      "(10000,)\n",
      "Average age: 67.517\n",
      "Minimum age: 49.323\n",
      "Maximum age: 94.330\n"
     ]
    }
   ],
   "source": [
    "ages = data[:, ageidx]\n",
    "print(ages.shape)\n",
    "print('Average age: %1.3f' % np.mean(ages))\n",
    "print('Minimum age: %1.3f' % np.min(ages))\n",
    "print('Maximum age: %1.3f' % np.max(ages))"
   ]
  },
  {
   "cell_type": "markdown",
   "metadata": {},
   "source": [
    "# 1. Exploratory analysis"
   ]
  },
  {
   "cell_type": "code",
   "execution_count": 28,
   "metadata": {
    "collapsed": false
   },
   "outputs": [
    {
     "name": "stdout",
     "output_type": "stream",
     "text": [
      "Data set contains 5000 males and 5000 females.\n",
      "5000\n",
      "Data set contains 2500 positive males and 2500 positive females.\n"
     ]
    }
   ],
   "source": [
    "genderidx = colidx['gender']\n",
    "# create a list of gender indicators via list comprehension\n",
    "genders = [x > 0 for x in data[:, genderidx]]\n",
    "\n",
    "# define gender representation\n",
    "male = False\n",
    "female = True\n",
    "\n",
    "num_males = genders.count(male)\n",
    "num_females = genders.count(female)\n",
    "print('Data set contains %d males and %d females.' % (num_males, num_females))\n",
    "\n",
    "# gender distribution in diabetics\n",
    "positive_rowidx = [idx for idx, label in enumerate(labels) if label]\n",
    "print(len(positive_rowidx)) # sanity check: length of this list should be 5000\n",
    "positive_genders = [x > 0 for x in data[positive_rowidx, genderidx]]\n",
    "\n",
    "num_positive_males = positive_genders.count(male)\n",
    "num_positive_females = positive_genders.count(female)\n",
    "print('Data set contains %d positive males and %d positive females.' % (num_positive_males, num_positive_females))"
   ]
  },
  {
   "cell_type": "code",
   "execution_count": 29,
   "metadata": {
    "collapsed": false
   },
   "outputs": [
    {
     "data": {
      "text/plain": [
       "<matplotlib.text.Text at 0x7f4b33afe910>"
      ]
     },
     "execution_count": 29,
     "metadata": {},
     "output_type": "execute_result"
    },
    {
     "data": {
      "image/png": "[encoded data removed]",
      "text/plain": [
       "<matplotlib.figure.Figure at 0x7f4b33babb10>"
      ]
     },
     "metadata": {},
     "output_type": "display_data"
    }
   ],
   "source": [
    "plt.hist(data[:, ageidx], bins=50)\n",
    "plt.xlabel('age')\n",
    "plt.ylabel('frequency')\n",
    "plt.title('Age histogram')"
   ]
  },
  {
   "cell_type": "code",
   "execution_count": 30,
   "metadata": {
    "collapsed": false
   },
   "outputs": [
    {
     "name": "stdout",
     "output_type": "stream",
     "text": [
      "[False False False False False]\n",
      "[ True  True  True  True  True]\n"
     ]
    },
    {
     "data": {
      "text/plain": [
       "<matplotlib.text.Text at 0x7f4b33bf4ad0>"
      ]
     },
     "execution_count": 30,
     "metadata": {},
     "output_type": "execute_result"
    },
    {
     "data": {
      "image/png": "[encoded data removed]",
      "text/plain": [
       "<matplotlib.figure.Figure at 0x7f4b2e5630d0>"
      ]
     },
     "metadata": {},
     "output_type": "display_data"
    }
   ],
   "source": [
    "# create a mask to identify males and females in the data\n",
    "male = data[:, colidx['gender']] > 0\n",
    "female = np.invert(male)\n",
    "print(female[:5])\n",
    "print(male[:5])\n",
    "\n",
    "# create vectors of ages\n",
    "male_ages = data[male, ageidx]\n",
    "female_ages = data[female, ageidx]\n",
    "\n",
    "# plot histograms of age vectors\n",
    "plt.hist((male_ages, female_ages), bins=50, histtype='step')\n",
    "plt.xlabel('age')\n",
    "plt.ylabel('frequency')\n",
    "plt.legend(['female (mean: %1.3f)' % np.mean(female_ages),\n",
    "            'male (mean: %1.3f)' % np.mean(male_ages)],\n",
    "          loc='lower center')\n",
    "plt.title('Age histogram per gender')"
   ]
  },
  {
   "cell_type": "markdown",
   "metadata": {},
   "source": [
    "# 2. Simple predictive modelling"
   ]
  },
  {
   "cell_type": "code",
   "execution_count": null,
   "metadata": {
    "collapsed": false
   },
   "outputs": [],
   "source": []
  },
  {
   "cell_type": "markdown",
   "metadata": {},
   "source": [
    "# 3. Feature selection"
   ]
  },
  {
   "cell_type": "markdown",
   "metadata": {},
   "source": [
    "We will work with some feature selection methods in order to remove attributes that may not be necessary for the predictive models. Let's have a look again at the data rapidly. This time we use a pandas DataFrame and then printing the first rows as well as a description for each feature."
   ]
  },
  {
   "cell_type": "code",
   "execution_count": null,
   "metadata": {
    "collapsed": false
   },
   "outputs": [
    {
     "name": "stdout",
     "output_type": "stream",
     "text": [
      "         age  gender  A01AA01  A01AA30   A01AB03  A01AB09  A01AB12  A01AC01  \\\n",
      "0  73.441594     1.0      0.0      0.0  4.567449      0.0      0.0      0.0   \n",
      "1  65.964129     1.0      0.0      0.0  0.000000      0.0      0.0      0.0   \n",
      "2  73.871248     1.0      0.0      0.0  0.000000      0.0      0.0      0.0   \n",
      "3  69.656015     1.0      0.0      0.0  0.000000      0.0      0.0      0.0   \n",
      "4  67.309671     1.0      0.0      0.0  0.000000      0.0      0.0      0.0   \n",
      "\n",
      "   A02AD01  A02AD02   ...     V08AA01  V08AA05  V08AB02  V08AB03  V08AB05  \\\n",
      "0      0.0      0.0   ...         0.0      0.0      0.0      0.0      0.0   \n",
      "1      0.0      0.0   ...         0.0      0.0      0.0      0.0      0.0   \n",
      "2      0.0      0.0   ...         0.0      0.0      0.0      0.0      0.0   \n",
      "3      0.0      0.0   ...         0.0      0.0      0.0      0.0      0.0   \n",
      "4      0.0      0.0   ...         0.0      0.0      0.0      0.0      0.0   \n",
      "\n",
      "   V08AB07  V08AB09  V08AB11  V08AD01  V08BA01  \n",
      "0      0.0      0.0      0.0      0.0      0.0  \n",
      "1      0.0      0.0      0.0      0.0      0.0  \n",
      "2      0.0      0.0      0.0      0.0      0.0  \n",
      "3      0.0      0.0      0.0      0.0      0.0  \n",
      "4      0.0      0.0      0.0      0.0      0.0  \n",
      "\n",
      "[5 rows x 1097 columns]\n",
      "                age        gender  A01AA01  A01AA30       A01AB03  \\\n",
      "count  10000.000000  10000.000000  10000.0  10000.0  10000.000000   \n",
      "mean      67.516825      0.500000      0.0      0.0      5.264452   \n",
      "std        6.657360      0.500025      0.0      0.0     33.344847   \n",
      "min       49.323414      0.000000      0.0      0.0      0.000000   \n",
      "25%       62.806192      0.000000      0.0      0.0      0.000000   \n",
      "50%       67.353141      0.500000      0.0      0.0      0.000000   \n",
      "75%       72.018188      1.000000      0.0      0.0      0.000000   \n",
      "max       94.330073      1.000000      0.0      0.0    755.662904   \n",
      "\n",
      "            A01AB09       A01AB12       A01AC01       A02AD01       A02AD02  \\\n",
      "count  10000.000000  10000.000000  10000.000000  10000.000000  10000.000000   \n",
      "mean       0.224730      1.691507      0.000175      0.259128      1.041539   \n",
      "std        0.947765     13.453079      0.006650      3.924524     13.632942   \n",
      "min        0.000000      0.000000      0.000000      0.000000      0.000000   \n",
      "25%        0.000000      0.000000      0.000000      0.000000      0.000000   \n",
      "50%        0.000000      0.000000      0.000000      0.000000      0.000000   \n",
      "75%        0.000000      0.000000      0.000000      0.000000      0.000000   \n",
      "max       18.180127    290.455250      0.353637    141.227630    509.641204   \n",
      "\n",
      "           ...            V08AA01       V08AA05       V08AB02  V08AB03  \\\n",
      "count      ...       10000.000000  10000.000000  10000.000000  10000.0   \n",
      "mean       ...           0.000317      0.001059      0.000073      0.0   \n",
      "std        ...           0.009089      0.016729      0.004125      0.0   \n",
      "min        ...           0.000000      0.000000      0.000000      0.0   \n",
      "25%        ...           0.000000      0.000000      0.000000      0.0   \n",
      "50%        ...           0.000000      0.000000      0.000000      0.0   \n",
      "75%        ...           0.000000      0.000000      0.000000      0.0   \n",
      "max        ...           0.388227      0.505438      0.288961      0.0   \n",
      "\n",
      "            V08AB05  V08AB07  V08AB09  V08AB11       V08AD01       V08BA01  \n",
      "count  10000.000000  10000.0  10000.0  10000.0  10000.000000  10000.000000  \n",
      "mean       0.000343      0.0      0.0      0.0      0.000574      0.067726  \n",
      "std        0.009687      0.0      0.0      0.0      0.012611      1.536172  \n",
      "min        0.000000      0.0      0.0      0.0      0.000000      0.000000  \n",
      "25%        0.000000      0.0      0.0      0.0      0.000000      0.000000  \n",
      "50%        0.000000      0.0      0.0      0.0      0.000000      0.000000  \n",
      "75%        0.000000      0.0      0.0      0.0      0.000000      0.000000  \n",
      "max        0.389749      0.0      0.0      0.0      0.513904     94.304761  \n",
      "\n",
      "[8 rows x 1097 columns]\n",
      "Reduced dataset contains 886 features\n"
     ]
    }
   ],
   "source": [
    "# Create the data frame\n",
    "df = pd.DataFrame(data,columns=features)\n",
    "# Print the first rows\n",
    "print df.head()\n",
    "# Print a description of the variables\n",
    "print df.describe()\n",
    "\n",
    "#df['gender'].astype(int).unique()\n",
    "\n",
    "# A simple technique for feature selection is to remove the attributes with low or zero variance.\n",
    "# For this purpose we will Scikit-learn\n",
    "from sklearn.feature_selection import VarianceThreshold\n",
    "# here we can specify a threshold, default is zero variance\n",
    "var_selector = VarianceThreshold(0.0)\n",
    "new_data = var_selector.fit_transform(data)\n",
    "print \"Reduced dataset contains {0:d} features\".format(new_data.shape[1])"
   ]
  },
  {
   "cell_type": "markdown",
   "metadata": {},
   "source": [
    "So, the dataset contains a lot of features with zero variance. Removing these features can speed up the learning process.\n",
    "\n",
    "Now, let's try a simple method which orders the features according to their importances calculated for a certain scoring function. For example, that could be a statistical test (e.g. $\\chi^2$) or even another machine learning model (e.g. a linear model with $L_1$ regularization). "
   ]
  },
  {
   "cell_type": "code",
   "execution_count": null,
   "metadata": {
    "collapsed": false
   },
   "outputs": [],
   "source": [
    "from sklearn.ensemble import RandomForestClassifier\n",
    "from sklearn import cross_validation\n",
    "from sklearn.linear_model import LogisticRegression\n",
    "from sklearn.svm import LinearSVC\n",
    "from sklearn.preprocessing import StandardScaler\n",
    "from sklearn.feature_selection import SelectKBest\n",
    "from sklearn.feature_selection import chi2\n",
    "\n",
    "# helper function for cross-validating a classifier\n",
    "# we use a fixed seed in order to compare classifiers\n",
    "# across the same folds\n",
    "def crossValidateClassifier(X,y,clf):\n",
    "    cross_val = cross_validation.KFold(len(y),n_folds=5,shuffle=True,random_state=224441)\n",
    "    cv_score = cross_validation.cross_val_score(clf,X,y,scoring='accuracy',cv=cross_val)\n",
    "    return np.mean(cv_score),np.std(cv_score)\n",
    "\n",
    "# We use a non-linear model namely Random Forest which \n",
    "# builds multiple decision trees\n",
    "model = RandomForestClassifier(n_estimators=100,max_depth=35,n_jobs=3)\n",
    "    \n",
    "k_values = np.arange(100,1000,100)\n",
    "mean = []\n",
    "stds = []\n",
    "for k in k_values:\n",
    "    X_new = SelectKBest(chi2, k=k).fit_transform(data, labels)\n",
    "    m,std = crossValidateClassifier(X_new,labels,model)\n",
    "    mean.append(m)\n",
    "    stds.append(std)\n",
    "\n",
    "m,std = crossValidateClassifier(data,labels,model)\n",
    "\n",
    "plt.errorbar(k_values,mean,yerr=stds, fmt='-o')\n",
    "plt.axhline(y=m,color='red')\n",
    "plt.xlabel('Number of features')\n",
    "plt.ylabel('Accuracy')\n",
    "plt.title('#features vs. accuracy')\n",
    "plt.xlim(50,950)\n",
    "#crossValidateClassifier(scaler.fit_transform(X_new),labels,model)\n"
   ]
  },
  {
   "cell_type": "markdown",
   "metadata": {},
   "source": [
    "# 5. Constructing a machine learning pipeline"
   ]
  },
  {
   "cell_type": "code",
   "execution_count": null,
   "metadata": {
    "collapsed": false
   },
   "outputs": [],
   "source": []
  }
 ],
 "metadata": {
  "kernelspec": {
   "display_name": "Python 2",
   "language": "python",
   "name": "python2"
  },
  "language_info": {
   "codemirror_mode": {
    "name": "ipython",
    "version": 2
   },
   "file_extension": ".py",
   "mimetype": "text/x-python",
   "name": "python",
   "nbconvert_exporter": "python",
   "pygments_lexer": "ipython2",
   "version": "2.7.6"
  }
 },
 "nbformat": 4,
 "nbformat_minor": 0
}
