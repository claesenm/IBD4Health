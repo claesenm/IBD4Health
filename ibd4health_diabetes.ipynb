{
 "cells": [
  {
   "cell_type": "markdown",
   "metadata": {},
   "source": [
    "In this notebook, we will do some basic data analyses. As a basis, we will use a synthetic data set containing biographical and medicinal information of a number of persons."
   ]
  },
  {
   "cell_type": "markdown",
   "metadata": {},
   "source": [
    "# 0. Python and data primer\n",
    "\n",
    "## 0.1. Python primer\n",
    "\n",
    "In this section we will provide a concise overview of the Python language, to enable you to get started. The '#' sign is used to start a comment in Python, that lasts until the end of the line. The 'print()' command can be used to print output.\n",
    "\n",
    "### Primitive types\n",
    "First, lets go over some primitive types in Python: integers (whole numbers), floats (real numbers), booleans (true/false) and strings (text)."
   ]
  },
  {
   "cell_type": "code",
   "execution_count": null,
   "metadata": {
    "collapsed": false
   },
   "outputs": [],
   "source": [
    "# integers\n",
    "a = 1\n",
    "print(type(a))\n",
    "print(a)"
   ]
  },
  {
   "cell_type": "code",
   "execution_count": null,
   "metadata": {
    "collapsed": false
   },
   "outputs": [],
   "source": [
    "# floats\n",
    "b = 1.0\n",
    "type(b)\n",
    "print(b)"
   ]
  },
  {
   "cell_type": "code",
   "execution_count": null,
   "metadata": {
    "collapsed": false
   },
   "outputs": [],
   "source": [
    "# booleans\n",
    "c = True\n",
    "print(type(c))\n",
    "print(c)\n",
    "d = a == 2\n",
    "print(d)"
   ]
  },
  {
   "cell_type": "code",
   "execution_count": null,
   "metadata": {
    "collapsed": false
   },
   "outputs": [],
   "source": [
    "# string\n",
    "s = 'We are the knights who say \"Ni!\"'\n",
    "print(type(s))\n",
    "print(s)\n",
    "s2 = s + ' And we demand a shrubbery!'\n",
    "print(s2)"
   ]
  },
  {
   "cell_type": "markdown",
   "metadata": {},
   "source": [
    "### Built-in basic data types\n",
    "\n",
    "Python has a number of built-in data types, including lists, dictionaries and sets. We will briefly go over the uses and syntax of each of these.\n",
    "\n",
    "A *list* is an ordered sequence of values, not necessarily of the same type. Lists can be initialized via square brackets []."
   ]
  },
  {
   "cell_type": "code",
   "execution_count": null,
   "metadata": {
    "collapsed": false
   },
   "outputs": [],
   "source": [
    "l = [1, 'blah', 2.0, True]\n",
    "print(type(l))\n",
    "print(l)\n",
    "\n",
    "# iterate over list\n",
    "for i in l:\n",
    "    print(i)\n",
    "    \n",
    "# add element to a list\n",
    "l.append(5)\n",
    "print(l)\n",
    "\n",
    "# list slicing: print the first 3 elements\n",
    "print(l[0:3])\n",
    "\n",
    "# length of the list: use the len() function\n",
    "print(len(l))"
   ]
  },
  {
   "cell_type": "markdown",
   "metadata": {},
   "source": [
    "A *dictionary* (dict) is a container that maps (unique) keys to values, and is typically initialized using curly brackets {}."
   ]
  },
  {
   "cell_type": "code",
   "execution_count": null,
   "metadata": {
    "collapsed": false
   },
   "outputs": [],
   "source": [
    "d = {'a': 1, 'b': 2}\n",
    "print(type(d))\n",
    "print(d)\n",
    "\n",
    "# get item 'a' from the dictionary\n",
    "print(d['a'])\n",
    "\n",
    "# length of the dictionary\n",
    "print(len(d))\n",
    "\n",
    "# iterate over the dictionary\n",
    "# note that the ordering is not necessarily as initialized\n",
    "for k, v in d.items():\n",
    "    print('key %s mapped to value %d' % (k, v))"
   ]
  },
  {
   "cell_type": "markdown",
   "metadata": {},
   "source": [
    "A *set* is a container for distinct values, and can be initialized via the *set()* function."
   ]
  },
  {
   "cell_type": "code",
   "execution_count": null,
   "metadata": {
    "collapsed": false
   },
   "outputs": [],
   "source": [
    "s1 = set([1, 2, 3, 3])\n",
    "print(type(s1))\n",
    "print(s1)\n",
    "\n",
    "s2 = set([3, 4, 5])\n",
    "print(s2)\n",
    "\n",
    "# set union\n",
    "s3 = s1.union(s2)\n",
    "print(s3)\n",
    "\n",
    "# set difference\n",
    "s4 = s1.difference(s2)\n",
    "print(s4)"
   ]
  },
  {
   "cell_type": "markdown",
   "metadata": {},
   "source": [
    "### Various useful functions\n",
    "\n",
    "The 'help()' function can be used to open the documentation of a certain function or data type."
   ]
  },
  {
   "cell_type": "code",
   "execution_count": null,
   "metadata": {
    "collapsed": false
   },
   "outputs": [],
   "source": [
    "# 1.0 represents a float object\n",
    "help(1.0)"
   ]
  },
  {
   "cell_type": "code",
   "execution_count": null,
   "metadata": {
    "collapsed": false
   },
   "outputs": [],
   "source": [
    "# map() is a built-in function\n",
    "help(map)"
   ]
  },
  {
   "cell_type": "markdown",
   "metadata": {},
   "source": [
    "List comprehensions provide an elegant way to create or transform lists."
   ]
  },
  {
   "cell_type": "code",
   "execution_count": null,
   "metadata": {
    "collapsed": false
   },
   "outputs": [],
   "source": [
    "# to see what range() does, use help(range)\n",
    "a = [5 * i for i in range(5)]\n",
    "print(a)\n",
    "b = [x - 1 for x in a]\n",
    "print(b)"
   ]
  },
  {
   "cell_type": "markdown",
   "metadata": {},
   "source": [
    "The next step is importing libraries and/or data. Python has a wealth of libraries that provide well-documented functions we can use for data analysis. In particular, we will use 'NumPy' (numerical support, esp. linear algebra), 'scikit-learn' (machine learning), 'pandas' (statistics) and matplotlib (plotting). A library can be loaded using the 'import' command and renamed via 'import x as y'. To call function x from library y, we use y.x()."
   ]
  },
  {
   "cell_type": "code",
   "execution_count": null,
   "metadata": {
    "collapsed": false
   },
   "outputs": [],
   "source": [
    "import numpy as np # numpy\n",
    "import sklearn # scikit-learn\n",
    "import pandas as pd # pandas\n",
    "import matplotlib.pyplot as plt # matplotlib"
   ]
  },
  {
   "cell_type": "markdown",
   "metadata": {},
   "source": [
    "## 0.2 The data set"
   ]
  },
  {
   "cell_type": "markdown",
   "metadata": {},
   "source": [
    "We will use a synthetic data set based on health expenditure data. The data is organized as a matrix, and contains biographical information, class labels and information about drug purchases.\n",
    "\n",
    "For your convenience, we created a small library for loading the data and some convenience functions. We will load the library as 'ibd4h'."
   ]
  },
  {
   "cell_type": "code",
   "execution_count": 21,
   "metadata": {
    "collapsed": false
   },
   "outputs": [],
   "source": [
    "import ibd4health as ibd4h\n",
    "data = ibd4h.data\n",
    "features = ibd4h.features\n",
    "labels = ibd4h.labels\n",
    "colidx = ibd4h.colidx"
   ]
  },
  {
   "cell_type": "markdown",
   "metadata": {},
   "source": [
    "The following variables are important:\n",
    "- **data**: the data matrix, rows correspond to patients, columns to features\n",
    "- **features**: the list of features (corresponding to columns in ibd4h.data)\n",
    "- **labels**: the labels for patients (corresponding to rows, True: diabetic, False: non-diabetic)\n",
    "- **colidx**: a dictionary to facilitate retrieving columns from their string definitions"
   ]
  },
  {
   "cell_type": "code",
   "execution_count": 25,
   "metadata": {
    "collapsed": false
   },
   "outputs": [
    {
     "name": "stdout",
     "output_type": "stream",
     "text": [
      "Data set contains info on 10000 patients with 1097 features.\n",
      "Feature list has 1097 entries.\n",
      "Label list has 10000 entries, of which 5000 are positive.\n"
     ]
    }
   ],
   "source": [
    "print(\"Data set contains info on %d patients with %d features.\" \n",
    "      % data.shape)\n",
    "print(\"Feature list has %d entries.\" \n",
    "      % features.shape)\n",
    "print(\"Label list has %d entries, of which %d are positive.\" \n",
    "      % (labels.shape[0], sum(labels)))"
   ]
  },
  {
   "cell_type": "markdown",
   "metadata": {},
   "source": [
    "The features in this data set include age, gender the volume of drugs purchased by the patient. Lets have a look at the first 3 features."
   ]
  },
  {
   "cell_type": "code",
   "execution_count": 28,
   "metadata": {
    "collapsed": false
   },
   "outputs": [
    {
     "name": "stdout",
     "output_type": "stream",
     "text": [
      "feature 0: b'age'\n",
      "feature 1: b'gender'\n",
      "feature 2: b'A01AA01'\n"
     ]
    }
   ],
   "source": [
    "for idx, feat in enumerate(features[:3]):\n",
    "    print('feature %d: %s' % (idx, feat))"
   ]
  },
  {
   "cell_type": "markdown",
   "metadata": {},
   "source": [
    "Drug volumes are categorized via codes of the anatomical therapeutic chemical (ATC) classification system (cfr. http://www.whocc.no/atc_ddd_index/ for details). You can find a description of ATC code XXX in the data set at http://www.whocc.no/atc_ddd_index/?showdescription=yes&code=XXX. For example, information on the third feature 'A01AA01', can be found at http://www.whocc.no/atc_ddd_index/?showdescription=yes&code=A01AA01."
   ]
  },
  {
   "cell_type": "markdown",
   "metadata": {},
   "source": [
    "# 1. Exploratory analysis"
   ]
  },
  {
   "cell_type": "code",
   "execution_count": null,
   "metadata": {
    "collapsed": false
   },
   "outputs": [],
   "source": []
  },
  {
   "cell_type": "markdown",
   "metadata": {},
   "source": [
    "# 2. Simple predictive modelling"
   ]
  },
  {
   "cell_type": "code",
   "execution_count": null,
   "metadata": {
    "collapsed": false
   },
   "outputs": [],
   "source": []
  },
  {
   "cell_type": "markdown",
   "metadata": {},
   "source": [
    "# 4. Feature selection"
   ]
  },
  {
   "cell_type": "code",
   "execution_count": null,
   "metadata": {
    "collapsed": false
   },
   "outputs": [],
   "source": []
  },
  {
   "cell_type": "markdown",
   "metadata": {},
   "source": [
    "# 5. Constructing a machine learning pipeline"
   ]
  },
  {
   "cell_type": "code",
   "execution_count": null,
   "metadata": {
    "collapsed": false
   },
   "outputs": [],
   "source": []
  }
 ],
 "metadata": {
  "kernelspec": {
   "display_name": "Python 3",
   "language": "python",
   "name": "python3"
  },
  "language_info": {
   "codemirror_mode": {
    "name": "ipython",
    "version": 3
   },
   "file_extension": ".py",
   "mimetype": "text/x-python",
   "name": "python",
   "nbconvert_exporter": "python",
   "pygments_lexer": "ipython3",
   "version": "3.4.2"
  }
 },
 "nbformat": 4,
 "nbformat_minor": 0
}
